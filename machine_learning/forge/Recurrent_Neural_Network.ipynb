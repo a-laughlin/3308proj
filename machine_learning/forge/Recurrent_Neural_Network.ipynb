{
 "cells": [
  {
   "cell_type": "code",
   "execution_count": 348,
   "metadata": {
    "collapsed": true
   },
   "outputs": [],
   "source": [
    "%matplotlib inline\n",
    "from functools import partial\n",
    "import matplotlib.pyplot as plt\n",
    "import numpy as np\n",
    "import pandas as pd\n",
    "import random\n",
    "\n",
    "import torch\n",
    "import torch.nn as nn\n",
    "import torch.nn.functional as F\n",
    "import torch.optim as optim\n",
    "\n",
    "from torch.autograd import Variable"
   ]
  },
  {
   "cell_type": "code",
   "execution_count": 474,
   "metadata": {
    "collapsed": true
   },
   "outputs": [],
   "source": [
    "class RNN(nn.Module):\n",
    "    \n",
    "    def __init__(self, input_size, hidden_size, output_size):\n",
    "        super(RNN, self).__init__()\n",
    "        \n",
    "        self.hidden_size = hidden_size\n",
    "        \n",
    "        self.i2h = nn.Linear(input_size + hidden_size, hidden_size)\n",
    "        self.h2h = nn.Linear(hidden_size, hidden_size)\n",
    "        \n",
    "        self.i2o = nn.Linear(input_size + hidden_size, hidden_size)\n",
    "        self.o2o = nn.Linear(hidden_size, output_size)\n",
    "        \n",
    "    def forward(self, input, hidden):\n",
    "        \n",
    "        combined = torch.cat((input, hidden), 1)\n",
    "        \n",
    "        hidden = self.h2h(F.relu(self.i2h(combined)))\n",
    "        output = self.o2o(F.relu(self.i2o(combined)))\n",
    "            \n",
    "        return output, hidden\n",
    "    \n",
    "    def initHidden(self):\n",
    "        return torch.zeros(1, self.hidden_size)"
   ]
  },
  {
   "cell_type": "code",
   "execution_count": 3,
   "metadata": {
    "collapsed": true
   },
   "outputs": [],
   "source": [
    "def makeData(npoints = 500, f = None):\n",
    "    \n",
    "    if f is None:\n",
    "        f = lambda x: x*x + 10\n",
    "    \n",
    "    x = np.linspace(0, 10*np.pi, npoints)\n",
    "    \n",
    "    y = np.array(list(map(f, x)))\n",
    "    \n",
    "    x = torch.Tensor(x).view(-1, 1)\n",
    "    y = torch.Tensor(y).view(-1, 1)\n",
    "    \n",
    "    return x, y"
   ]
  },
  {
   "cell_type": "code",
   "execution_count": 60,
   "metadata": {
    "collapsed": true
   },
   "outputs": [],
   "source": [
    "def loadData(filename, npoints = 100):\n",
    "    \n",
    "    df = pd.read_json(filename, orient = 'values')\n",
    "    \n",
    "    y = torch.Tensor(df.values)[:npoints]\n",
    "    \n",
    "    return y"
   ]
  },
  {
   "cell_type": "code",
   "execution_count": 49,
   "metadata": {
    "collapsed": true
   },
   "outputs": [],
   "source": [
    "def sequence_train_test_split(sequence, test = 0.2):\n",
    "    \n",
    "    n = len(sequence)\n",
    "    \n",
    "    indices = np.arange(n)\n",
    "    \n",
    "    train_split = 1 - test\n",
    "    ntrain = int(n * train_split)\n",
    "    \n",
    "    train_indices, test_indices = indices[:ntrain], indices[ntrain:]\n",
    "    \n",
    "    train_sequence = sequence[train_indices]\n",
    "    test_sequence = sequence[test_indices]\n",
    "    \n",
    "    train_input = train_sequence[:-1].unsqueeze(2)\n",
    "    train_target = train_sequence[1:]\n",
    "    \n",
    "    test_input = test_sequence[:-1].unsqueeze(2)\n",
    "    test_target = test_sequence[1:]\n",
    "    \n",
    "    return train_input, test_input, train_target, test_target"
   ]
  },
  {
   "cell_type": "code",
   "execution_count": 375,
   "metadata": {
    "collapsed": true
   },
   "outputs": [],
   "source": [
    "def train(rnn, train_input, train_target, lr = 0.001, epochs = 1000, teacher_forcing_ratio = 0.5, plot = True):\n",
    "    \n",
    "    criterion = nn.MSELoss()\n",
    "    optimizer = optim.Adam(rnn.parameters(), lr = lr)\n",
    "    \n",
    "    try:\n",
    "        for epoch in range(epochs):\n",
    "\n",
    "            hidden = rnn.initHidden()\n",
    "            \n",
    "            use_teacher_forcing = True if random.random() < teacher_forcing_ratio else False\n",
    "            \n",
    "            loss = 0\n",
    "            outputs = []\n",
    "            \n",
    "            if use_teacher_forcing:\n",
    "            \n",
    "                for i, input in enumerate(train_input):\n",
    "                    output, hidden = rnn(input, hidden)\n",
    "                    outputs.append(output)\n",
    "                    \n",
    "                    l = criterion(output, train_target[i])\n",
    "                    loss += l\n",
    "            \n",
    "            else:\n",
    "                \n",
    "                output = train_input[0]\n",
    "                \n",
    "                for i in range(len(train_target)):\n",
    "                    output, hidden = rnn(output, hidden)\n",
    "                    outputs.append(output)\n",
    "                    \n",
    "                    l = criterion(output, train_target[i])\n",
    "                    loss += l\n",
    "                    \n",
    "            \n",
    "            optimizer.zero_grad()\n",
    "            loss.backward()\n",
    "            optimizer.step()\n",
    "\n",
    "            if epoch % 25 == 0:\n",
    "                print('epoch {}, loss {}, teacher forcing: {}'.format(epoch, loss, use_teacher_forcing))\n",
    "            \n",
    "            \n",
    "            \n",
    "    except KeyboardInterrupt:\n",
    "        pass\n",
    "    \n",
    "    if plot:\n",
    "        \n",
    "        hidden = rnn.initHidden()\n",
    "        outputs = []\n",
    "        \n",
    "        for i, input in enumerate(train_input):\n",
    "            output, hidden = rnn(input, hidden)\n",
    "            outputs.append(output)\n",
    "        \n",
    "        pred_target = torch.Tensor(outputs).view(-1,1)\n",
    "        \n",
    "        with torch.no_grad():\n",
    "            t = np.arange(train_input.size(0))\n",
    "\n",
    "            plt.plot(t, pred_target.detach().numpy(), color = 'red', linewidth = 2)\n",
    "            plt.plot(t, train_target.detach().numpy(), color = 'blue', linewidth = 1)\n",
    "            \n",
    "    return rnn"
   ]
  },
  {
   "cell_type": "code",
   "execution_count": 422,
   "metadata": {
    "collapsed": true
   },
   "outputs": [],
   "source": [
    "def predict(rnn, train_input, train_target, test_input, test_target, future = 50, plot = True):\n",
    "    \n",
    "    hidden = rnn.initHidden()\n",
    "\n",
    "    training_outputs = []\n",
    "    for input in train_input:\n",
    "        output, hidden = rnn(input, hidden)\n",
    "        training_outputs.append(output)\n",
    "        \n",
    "    pred_train_target = torch.Tensor(training_outputs).view(-1,1)\n",
    "      \n",
    "    testing_outputs = []   \n",
    "    for i, input in enumerate(test_input):\n",
    "        output, hidden = rnn(input, hidden)\n",
    "        testing_outputs.append(output)\n",
    "        \n",
    "    pred_test_target = torch.Tensor(testing_outputs).view(-1,1)\n",
    "    \n",
    "    future_targets = []\n",
    "    for _ in range(future):\n",
    "        output, hidden = rnn(output, hidden)\n",
    "        future_targets.append(output)\n",
    "      \n",
    "    pred_future_target = torch.Tensor(future_targets).view(-1,1)\n",
    "        \n",
    "    \n",
    "    if plot:\n",
    "        \n",
    "        with torch.no_grad():\n",
    "            t1 = np.arange(pred_train_target.size(0))\n",
    "            t2 = np.arange(len(t1), len(t1) + pred_test_target.size(0))\n",
    "            t3 = np.arange(len(t1) + len(t2), len(t1) + len(t2) + pred_future_target.size(0))\n",
    "            \n",
    "            s = 50\n",
    "            plt.plot(t1[s:], pred_train_target.numpy()[s:], color = 'red', linewidth = 2, label = 'Train Prediction')\n",
    "            plt.plot(t1[s:], train_target.numpy()[s:], color = 'blue', linewidth = 1, label = 'Train True')\n",
    "            \n",
    "            plt.plot(t2, pred_test_target.numpy(), color = 'red', linewidth = 2, linestyle = '--', label = 'Test Prediction')\n",
    "            plt.plot(t2, test_target.numpy(), color = 'blue', linewidth = 1, linestyle = '--', label = 'Test True')\n",
    "            \n",
    "            plt.plot(t3, pred_future_target.numpy(), color = 'green', linewidth = 2, label = 'Future Prediction')\n",
    "            \n",
    "            plt.legend(bbox_to_anchor=(1.04,0.5), loc=\"center left\", borderaxespad=0)"
   ]
  },
  {
   "cell_type": "code",
   "execution_count": 475,
   "metadata": {
    "collapsed": true
   },
   "outputs": [],
   "source": [
    "n_input = 1\n",
    "n_hidden = 128\n",
    "n_output = 1\n",
    "rnn = RNN(n_input, n_hidden, n_output)"
   ]
  },
  {
   "cell_type": "code",
   "execution_count": 476,
   "metadata": {
    "collapsed": true
   },
   "outputs": [],
   "source": [
    "npoints = 100\n",
    "f = lambda x: np.sin(x)\n",
    "_, y = makeData(npoints=npoints, f = f)\n",
    "y = loadData('ml_input_foo.json', npoints = npoints)"
   ]
  },
  {
   "cell_type": "code",
   "execution_count": 477,
   "metadata": {
    "collapsed": false
   },
   "outputs": [
    {
     "name": "stdout",
     "output_type": "stream",
     "text": [
      "torch.Size([100, 1])\n"
     ]
    }
   ],
   "source": [
    "print(y.shape)"
   ]
  },
  {
   "cell_type": "code",
   "execution_count": 478,
   "metadata": {
    "collapsed": false
   },
   "outputs": [],
   "source": [
    "train_input, test_input, train_target, test_target= sequence_train_test_split(y)"
   ]
  },
  {
   "cell_type": "code",
   "execution_count": 479,
   "metadata": {
    "collapsed": false
   },
   "outputs": [
    {
     "name": "stdout",
     "output_type": "stream",
     "text": [
      "torch.Size([79, 1, 1])\n",
      "torch.Size([79, 1])\n"
     ]
    }
   ],
   "source": [
    "print(train_input.size())\n",
    "print(train_target.size())"
   ]
  },
  {
   "cell_type": "code",
   "execution_count": 480,
   "metadata": {
    "collapsed": false
   },
   "outputs": [
    {
     "name": "stdout",
     "output_type": "stream",
     "text": [
      "torch.Size([19, 1, 1])\n",
      "torch.Size([19, 1])\n"
     ]
    }
   ],
   "source": [
    "print(test_input.size())\n",
    "print(test_target.size())"
   ]
  },
  {
   "cell_type": "code",
   "execution_count": 481,
   "metadata": {
    "collapsed": false
   },
   "outputs": [
    {
     "name": "stdout",
     "output_type": "stream",
     "text": [
      "epoch 0, loss 270490.0, teacher forcing: True\n",
      "epoch 25, loss 158942.875, teacher forcing: True\n",
      "epoch 50, loss 15933.119140625, teacher forcing: True\n",
      "epoch 75, loss 11984.0107421875, teacher forcing: True\n",
      "epoch 100, loss 7429.0458984375, teacher forcing: True\n",
      "epoch 125, loss 224774.609375, teacher forcing: False\n",
      "epoch 150, loss 19493.3515625, teacher forcing: True\n",
      "epoch 175, loss 158509.703125, teacher forcing: True\n",
      "epoch 200, loss 171391.140625, teacher forcing: True\n",
      "epoch 225, loss 252877.28125, teacher forcing: False\n",
      "epoch 250, loss 40274.87890625, teacher forcing: True\n",
      "epoch 275, loss 26591.029296875, teacher forcing: True\n",
      "epoch 300, loss 92522.5078125, teacher forcing: True\n",
      "epoch 325, loss 127665.9375, teacher forcing: True\n",
      "epoch 350, loss 120319.96875, teacher forcing: True\n",
      "epoch 375, loss 246027.71875, teacher forcing: False\n",
      "epoch 400, loss 243861.375, teacher forcing: False\n",
      "epoch 425, loss 77791.6796875, teacher forcing: True\n",
      "epoch 450, loss 49313.484375, teacher forcing: True\n",
      "epoch 475, loss 20075.4453125, teacher forcing: True\n",
      "epoch 500, loss 11417.9208984375, teacher forcing: True\n",
      "epoch 525, loss 15587.5185546875, teacher forcing: True\n",
      "epoch 550, loss 11756.1357421875, teacher forcing: True\n",
      "epoch 575, loss 10371.6796875, teacher forcing: True\n",
      "epoch 600, loss 10222.14453125, teacher forcing: True\n",
      "epoch 625, loss 19728.42578125, teacher forcing: True\n",
      "epoch 650, loss 10717.37890625, teacher forcing: True\n",
      "epoch 675, loss 9118.609375, teacher forcing: True\n",
      "epoch 700, loss 9548.1337890625, teacher forcing: True\n",
      "epoch 725, loss 10263.7197265625, teacher forcing: True\n",
      "epoch 750, loss 10022.2783203125, teacher forcing: True\n",
      "epoch 775, loss 10549.076171875, teacher forcing: True\n",
      "epoch 800, loss 146189.546875, teacher forcing: False\n",
      "epoch 825, loss 8112.85205078125, teacher forcing: True\n",
      "epoch 850, loss 90298.7734375, teacher forcing: False\n",
      "epoch 875, loss 8544.2939453125, teacher forcing: True\n",
      "epoch 900, loss 242325.34375, teacher forcing: False\n",
      "epoch 925, loss 95123.4296875, teacher forcing: True\n",
      "epoch 950, loss 215597.59375, teacher forcing: False\n",
      "epoch 975, loss 41806.90234375, teacher forcing: False\n"
     ]
    },
    {
     "data": {
      "image/png": "[encoded data removed]",
      "text/plain": [
       "<matplotlib.figure.Figure at 0x124bf1d68>"
      ]
     },
     "metadata": {},
     "output_type": "display_data"
    }
   ],
   "source": [
    "rnn = train(rnn, train_input, train_target, lr = 0.0003, epochs=1000, teacher_forcing_ratio=.8)"
   ]
  },
  {
   "cell_type": "code",
   "execution_count": 482,
   "metadata": {
    "collapsed": false
   },
   "outputs": [
    {
     "data": {
      "image/png": "[encoded data removed]",
      "text/plain": [
       "<matplotlib.figure.Figure at 0x124c796a0>"
      ]
     },
     "metadata": {},
     "output_type": "display_data"
    }
   ],
   "source": [
    "predict(rnn, train_input, train_target, test_input, test_target, future = 50)"
   ]
  },
  {
   "cell_type": "code",
   "execution_count": null,
   "metadata": {
    "collapsed": true
   },
   "outputs": [],
   "source": []
  }
 ],
 "metadata": {
  "kernelspec": {
   "display_name": "Python [default]",
   "language": "python",
   "name": "python3"
  },
  "language_info": {
   "codemirror_mode": {
    "name": "ipython",
    "version": 3
   },
   "file_extension": ".py",
   "mimetype": "text/x-python",
   "name": "python",
   "nbconvert_exporter": "python",
   "pygments_lexer": "ipython3",
   "version": "3.5.4"
  }
 },
 "nbformat": 4,
 "nbformat_minor": 2
}
