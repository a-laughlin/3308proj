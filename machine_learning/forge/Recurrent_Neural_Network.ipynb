{
 "cells": [
  {
   "cell_type": "code",
   "execution_count": 3,
   "metadata": {
    "collapsed": true
   },
   "outputs": [],
   "source": [
    "%matplotlib inline\n",
    "from functools import partial\n",
    "import matplotlib.pyplot as plt\n",
    "import numpy as np\n",
    "import pandas as pd\n",
    "\n",
    "import torch\n",
    "import torch.nn as nn\n",
    "import torch.nn.functional as F\n",
    "import torch.optim as optim\n",
    "\n",
    "from torch.autograd import Variable"
   ]
  },
  {
   "cell_type": "code",
   "execution_count": 319,
   "metadata": {
    "collapsed": true
   },
   "outputs": [],
   "source": [
    "class RNN(nn.Module):\n",
    "    \n",
    "    def __init__(self, input_size, hidden_size, output_size):\n",
    "        super(RNN, self).__init__()\n",
    "        \n",
    "        self.hidden_size = hidden_size\n",
    "        \n",
    "        self.i2h = nn.Linear(input_size + hidden_size, hidden_size)\n",
    "        self.i2o = nn.Linear(input_size + hidden_size, output_size)\n",
    "        \n",
    "    def forward(self, input, hidden):\n",
    "        \n",
    "        combined = torch.cat((input, hidden), 1)\n",
    "        \n",
    "        hidden = self.i2h(combined)\n",
    "        output = self.i2o(combined)\n",
    "            \n",
    "        return output, hidden\n",
    "    \n",
    "    def initHidden(self):\n",
    "        return torch.zeros(1, self.hidden_size)"
   ]
  },
  {
   "cell_type": "code",
   "execution_count": 320,
   "metadata": {
    "collapsed": true
   },
   "outputs": [],
   "source": [
    "def makeData(npoints = 500, f = None):\n",
    "    \n",
    "    if f is None:\n",
    "        f = lambda x: x*x + 10\n",
    "    \n",
    "    x = np.arange(npoints)\n",
    "    \n",
    "    y = np.array(list(map(f, x)))\n",
    "    \n",
    "    x = torch.Tensor(x).view(-1, 1)\n",
    "    y = torch.Tensor(y).view(-1, 1)\n",
    "    \n",
    "    return x, y"
   ]
  },
  {
   "cell_type": "code",
   "execution_count": 321,
   "metadata": {
    "collapsed": true
   },
   "outputs": [],
   "source": [
    "def sequence_train_test_split(sequence, test = 0.2):\n",
    "    \n",
    "    n = len(x)\n",
    "    \n",
    "    indices = np.arange(n)\n",
    "    \n",
    "    train_split = 1 - test\n",
    "    ntrain = int(len(x) * train_split)\n",
    "    \n",
    "    train_indices, test_indices = indices[:ntrain], indices[ntrain:]\n",
    "    \n",
    "    train_sequence = sequence[train_indices]\n",
    "    test_sequence = sequence[test_indices]\n",
    "    \n",
    "    train_input = train_sequence[:-1].unsqueeze(2)\n",
    "    train_target = train_sequence[1:]\n",
    "    \n",
    "    test_input = test_sequence[:-1].unsqueeze(2)\n",
    "    test_target = test_sequence[1:]\n",
    "    \n",
    "    t_train = np.arange(train_input.size(0))\n",
    "    t_test = np.arange(train_input.size(0), train_input.size(0) + test_input.size(0))\n",
    "    \n",
    "    return train_input, test_input, train_target, test_target, t_train, t_test"
   ]
  },
  {
   "cell_type": "code",
   "execution_count": 339,
   "metadata": {
    "collapsed": true
   },
   "outputs": [],
   "source": [
    "def train(rnn, train_input, train_target, lr = 0.001, epochs = 1000, plot = True):\n",
    "    \n",
    "    criterion = nn.MSELoss()\n",
    "    optimizer = optim.Adam(rnn.parameters(), lr = lr)\n",
    "    \n",
    "    try:\n",
    "        for epoch in range(epochs):\n",
    "\n",
    "            hidden = rnn.initHidden()\n",
    "\n",
    "            loss = 0\n",
    "            outputs = []\n",
    "            for i, input in enumerate(train_input):\n",
    "                output, hidden = rnn(input, hidden)\n",
    "                outputs += [output]\n",
    "                l = criterion(output, train_target[i])\n",
    "                loss += l\n",
    "            \n",
    "            #loss = Variable(loss, requires_grad = True)\n",
    "\n",
    "            optimizer.zero_grad()\n",
    "            loss.backward()\n",
    "            optimizer.step()\n",
    "\n",
    "            if epoch % 500 == 0:\n",
    "                print('epoch {}, loss {}'.format(epoch, loss))\n",
    "            \n",
    "            pred_target = torch.Tensor(outputs).view(-1,1)\n",
    "            \n",
    "    except KeyboardInterrupt:\n",
    "        pass\n",
    "    \n",
    "    if plot:\n",
    "        \n",
    "        with torch.no_grad():\n",
    "            t = np.arange(train_input.size(0))\n",
    "\n",
    "            plt.scatter(t, pred_target.detach().numpy(), color = 'red', s = 15)\n",
    "            plt.scatter(t, train_target.detach().numpy(), color = 'blue', s = 10)\n",
    "            \n",
    "    return rnn"
   ]
  },
  {
   "cell_type": "code",
   "execution_count": 340,
   "metadata": {
    "collapsed": true
   },
   "outputs": [],
   "source": [
    "n_input = 1\n",
    "n_hidden = 128\n",
    "n_output = 1\n",
    "rnn = RNN(n_input, n_hidden, n_output)"
   ]
  },
  {
   "cell_type": "code",
   "execution_count": 341,
   "metadata": {
    "collapsed": true
   },
   "outputs": [],
   "source": [
    "npoints = 50\n",
    "f = lambda x: np.sin(x)\n",
    "x, y = makeData(npoints=npoints, f = f)"
   ]
  },
  {
   "cell_type": "code",
   "execution_count": 342,
   "metadata": {
    "collapsed": false
   },
   "outputs": [],
   "source": [
    "train_input, test_input, train_target, test_target, t_train, t_test = sequence_train_test_split(y)"
   ]
  },
  {
   "cell_type": "code",
   "execution_count": 343,
   "metadata": {
    "collapsed": false
   },
   "outputs": [
    {
     "data": {
      "text/plain": [
       "torch.Size([39, 1, 1])"
      ]
     },
     "execution_count": 343,
     "metadata": {},
     "output_type": "execute_result"
    }
   ],
   "source": [
    "train_input.size()"
   ]
  },
  {
   "cell_type": "code",
   "execution_count": 344,
   "metadata": {
    "collapsed": false
   },
   "outputs": [
    {
     "data": {
      "text/plain": [
       "torch.Size([39, 1])"
      ]
     },
     "execution_count": 344,
     "metadata": {},
     "output_type": "execute_result"
    }
   ],
   "source": [
    "train_target.size()"
   ]
  },
  {
   "cell_type": "code",
   "execution_count": 345,
   "metadata": {
    "collapsed": false
   },
   "outputs": [
    {
     "data": {
      "text/plain": [
       "[<matplotlib.lines.Line2D at 0x12c4b39e8>]"
      ]
     },
     "execution_count": 345,
     "metadata": {},
     "output_type": "execute_result"
    },
    {
     "data": {
      "image/png": "[encoded data removed]",
      "text/plain": [
       "<matplotlib.figure.Figure at 0x12c560978>"
      ]
     },
     "metadata": {},
     "output_type": "display_data"
    }
   ],
   "source": [
    "plt.plot(t_train, train_input[:,:,0].numpy())"
   ]
  },
  {
   "cell_type": "code",
   "execution_count": 346,
   "metadata": {
    "collapsed": false
   },
   "outputs": [
    {
     "name": "stdout",
     "output_type": "stream",
     "text": [
      "epoch 0, loss 22.502405166625977\n",
      "epoch 500, loss 1.0568516254425049\n"
     ]
    },
    {
     "data": {
      "image/png": "[encoded data removed]",
      "text/plain": [
       "<matplotlib.figure.Figure at 0x11c044860>"
      ]
     },
     "metadata": {},
     "output_type": "display_data"
    }
   ],
   "source": [
    "rnn = train(rnn, train_input, train_target, lr = 0.0001, epochs=1000)"
   ]
  }
 ],
 "metadata": {
  "kernelspec": {
   "display_name": "Python [default]",
   "language": "python",
   "name": "python3"
  },
  "language_info": {
   "codemirror_mode": {
    "name": "ipython",
    "version": 3
   },
   "file_extension": ".py",
   "mimetype": "text/x-python",
   "name": "python",
   "nbconvert_exporter": "python",
   "pygments_lexer": "ipython3",
   "version": "3.5.4"
  }
 },
 "nbformat": 4,
 "nbformat_minor": 2
}
